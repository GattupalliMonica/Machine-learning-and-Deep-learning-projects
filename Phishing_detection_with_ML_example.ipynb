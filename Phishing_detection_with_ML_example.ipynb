{
  "cells": [
    {
      "cell_type": "markdown",
      "metadata": {
        "id": "BT-np2Q-XX5E"
      },
      "source": [
        "## Clasification of phishng and benign URLs\n",
        "* Loading dataset from CSV file\n",
        "* Data exploration with 2D and 3D plots\n",
        "* Classification with KNN\n",
        "* Classifier evaluation"
      ]
    },
    {
      "cell_type": "code",
      "execution_count": null,
      "metadata": {
        "id": "25Hrn2tqXX5G",
        "outputId": "4f8ab663-ff53-4d25-834d-a13a59f6d36e"
      },
      "outputs": [
        {
          "name": "stdout",
          "output_type": "stream",
          "text": [
            "Train records: 192 Test records: 10\n",
            "(202, 5)\n"
          ]
        },
        {
          "data": {
            "text/html": [
              "<div>\n",
              "<style scoped>\n",
              "    .dataframe tbody tr th:only-of-type {\n",
              "        vertical-align: middle;\n",
              "    }\n",
              "\n",
              "    .dataframe tbody tr th {\n",
              "        vertical-align: top;\n",
              "    }\n",
              "\n",
              "    .dataframe thead th {\n",
              "        text-align: right;\n",
              "    }\n",
              "</style>\n",
              "<table border=\"1\" class=\"dataframe\">\n",
              "  <thead>\n",
              "    <tr style=\"text-align: right;\">\n",
              "      <th></th>\n",
              "      <th>Registrar</th>\n",
              "      <th>Lifetime</th>\n",
              "      <th>Country</th>\n",
              "      <th>Protocol</th>\n",
              "      <th>Class</th>\n",
              "      <th>Registrar_code</th>\n",
              "      <th>Country_code</th>\n",
              "      <th>Protocol_code</th>\n",
              "      <th>Class_code</th>\n",
              "    </tr>\n",
              "  </thead>\n",
              "  <tbody>\n",
              "    <tr>\n",
              "      <th>0</th>\n",
              "      <td>godaddy</td>\n",
              "      <td>1</td>\n",
              "      <td>US</td>\n",
              "      <td>http</td>\n",
              "      <td>phishing</td>\n",
              "      <td>84</td>\n",
              "      <td>28</td>\n",
              "      <td>0</td>\n",
              "      <td>1</td>\n",
              "    </tr>\n",
              "    <tr>\n",
              "      <th>1</th>\n",
              "      <td>REGISTER.COM, INC.</td>\n",
              "      <td>9</td>\n",
              "      <td>US</td>\n",
              "      <td>http</td>\n",
              "      <td>phishing</td>\n",
              "      <td>59</td>\n",
              "      <td>28</td>\n",
              "      <td>0</td>\n",
              "      <td>1</td>\n",
              "    </tr>\n",
              "    <tr>\n",
              "      <th>2</th>\n",
              "      <td>godaddy</td>\n",
              "      <td>2</td>\n",
              "      <td>NaN</td>\n",
              "      <td>http</td>\n",
              "      <td>phishing</td>\n",
              "      <td>84</td>\n",
              "      <td>-1</td>\n",
              "      <td>0</td>\n",
              "      <td>1</td>\n",
              "    </tr>\n",
              "    <tr>\n",
              "      <th>3</th>\n",
              "      <td>PSI-USA, INC. DBA DOMAIN ROBOT</td>\n",
              "      <td>3</td>\n",
              "      <td>Ireland</td>\n",
              "      <td>http</td>\n",
              "      <td>phishing</td>\n",
              "      <td>55</td>\n",
              "      <td>12</td>\n",
              "      <td>0</td>\n",
              "      <td>1</td>\n",
              "    </tr>\n",
              "    <tr>\n",
              "      <th>4</th>\n",
              "      <td>PDR LTD. D/B/A PUBLICDOMAINREGISTRY.COM</td>\n",
              "      <td>5</td>\n",
              "      <td>India</td>\n",
              "      <td>http</td>\n",
              "      <td>phishing</td>\n",
              "      <td>54</td>\n",
              "      <td>11</td>\n",
              "      <td>0</td>\n",
              "      <td>1</td>\n",
              "    </tr>\n",
              "    <tr>\n",
              "      <th>...</th>\n",
              "      <td>...</td>\n",
              "      <td>...</td>\n",
              "      <td>...</td>\n",
              "      <td>...</td>\n",
              "      <td>...</td>\n",
              "      <td>...</td>\n",
              "      <td>...</td>\n",
              "      <td>...</td>\n",
              "      <td>...</td>\n",
              "    </tr>\n",
              "    <tr>\n",
              "      <th>197</th>\n",
              "      <td>Vitalwerks Internet Solutions, LLC DBA No-IP (...</td>\n",
              "      <td>14</td>\n",
              "      <td>Canada</td>\n",
              "      <td>https</td>\n",
              "      <td>benign</td>\n",
              "      <td>70</td>\n",
              "      <td>5</td>\n",
              "      <td>1</td>\n",
              "      <td>0</td>\n",
              "    </tr>\n",
              "    <tr>\n",
              "      <th>198</th>\n",
              "      <td>Onlinenic Inc</td>\n",
              "      <td>5</td>\n",
              "      <td>US</td>\n",
              "      <td>https</td>\n",
              "      <td>benign</td>\n",
              "      <td>53</td>\n",
              "      <td>28</td>\n",
              "      <td>1</td>\n",
              "      <td>0</td>\n",
              "    </tr>\n",
              "    <tr>\n",
              "      <th>199</th>\n",
              "      <td>TUCOWS, INC.</td>\n",
              "      <td>7</td>\n",
              "      <td>US</td>\n",
              "      <td>https</td>\n",
              "      <td>benign</td>\n",
              "      <td>68</td>\n",
              "      <td>28</td>\n",
              "      <td>1</td>\n",
              "      <td>0</td>\n",
              "    </tr>\n",
              "    <tr>\n",
              "      <th>200</th>\n",
              "      <td>NETWORK SOLUTIONS, LLC</td>\n",
              "      <td>6</td>\n",
              "      <td>US</td>\n",
              "      <td>https</td>\n",
              "      <td>benign</td>\n",
              "      <td>48</td>\n",
              "      <td>28</td>\n",
              "      <td>1</td>\n",
              "      <td>0</td>\n",
              "    </tr>\n",
              "    <tr>\n",
              "      <th>201</th>\n",
              "      <td>USA</td>\n",
              "      <td>2</td>\n",
              "      <td>US</td>\n",
              "      <td>https</td>\n",
              "      <td>benign</td>\n",
              "      <td>69</td>\n",
              "      <td>28</td>\n",
              "      <td>1</td>\n",
              "      <td>0</td>\n",
              "    </tr>\n",
              "  </tbody>\n",
              "</table>\n",
              "<p>202 rows × 9 columns</p>\n",
              "</div>"
            ],
            "text/plain": [
              "                                             Registrar  Lifetime  Country  \\\n",
              "0                                              godaddy         1       US   \n",
              "1                                   REGISTER.COM, INC.         9       US   \n",
              "2                                              godaddy         2      NaN   \n",
              "3                       PSI-USA, INC. DBA DOMAIN ROBOT         3  Ireland   \n",
              "4              PDR LTD. D/B/A PUBLICDOMAINREGISTRY.COM         5    India   \n",
              "..                                                 ...       ...      ...   \n",
              "197  Vitalwerks Internet Solutions, LLC DBA No-IP (...        14   Canada   \n",
              "198                                      Onlinenic Inc         5       US   \n",
              "199                                       TUCOWS, INC.         7       US   \n",
              "200                             NETWORK SOLUTIONS, LLC         6       US   \n",
              "201                                                USA         2       US   \n",
              "\n",
              "    Protocol     Class  Registrar_code  Country_code  Protocol_code  \\\n",
              "0       http  phishing              84            28              0   \n",
              "1       http  phishing              59            28              0   \n",
              "2       http  phishing              84            -1              0   \n",
              "3       http  phishing              55            12              0   \n",
              "4       http  phishing              54            11              0   \n",
              "..       ...       ...             ...           ...            ...   \n",
              "197    https    benign              70             5              1   \n",
              "198    https    benign              53            28              1   \n",
              "199    https    benign              68            28              1   \n",
              "200    https    benign              48            28              1   \n",
              "201    https    benign              69            28              1   \n",
              "\n",
              "     Class_code  \n",
              "0             1  \n",
              "1             1  \n",
              "2             1  \n",
              "3             1  \n",
              "4             1  \n",
              "..          ...  \n",
              "197           0  \n",
              "198           0  \n",
              "199           0  \n",
              "200           0  \n",
              "201           0  \n",
              "\n",
              "[202 rows x 9 columns]"
            ]
          },
          "execution_count": 1,
          "metadata": {},
          "output_type": "execute_result"
        }
      ],
      "source": [
        "# Load CSV\n",
        "import pandas as pd\n",
        "import numpy as np\n",
        "\n",
        "\n",
        "filename_train = 'train.csv'\n",
        "filename_test = 'test.csv'\n",
        "\n",
        "# Loading with Pandas\n",
        "data_train = pd.read_csv(filename_train)\n",
        "data_test = pd.read_csv(filename_test)\n",
        "\n",
        "TRAIN_COUNT = len(data_train.index)\n",
        "TEST_COUNT = len(data_test.index)\n",
        "print(\"Train records:\", TRAIN_COUNT, \"Test records:\", TEST_COUNT)\n",
        "\n",
        "data = pd.concat([data_train, data_test], ignore_index=True)\n",
        "\n",
        "print(data.shape)\n",
        "#data\n",
        "#data.dtypes\n",
        "\n",
        "# Transforming 'object' data to 'categorical' to get numerical (ordinal numbers) representation\n",
        "data['Registrar'] = data['Registrar'].astype('category')\n",
        "data['Country'] = data['Country'].astype('category')\n",
        "data['Protocol'] = data['Protocol'].astype('category')\n",
        "data['Class'] = data['Class'].astype('category')\n",
        "\n",
        "data['Registrar_code'] = data['Registrar'].cat.codes\n",
        "data['Country_code'] = data['Country'].cat.codes\n",
        "data['Protocol_code'] = data['Protocol'].cat.codes\n",
        "data['Class_code'] = data['Class'].cat.codes\n",
        "\n",
        "#pd.options.display.max_rows=1000\n",
        "data"
      ]
    },
    {
      "cell_type": "markdown",
      "metadata": {
        "id": "wFpME__QXX5J"
      },
      "source": [
        "### Feature scaling"
      ]
    },
    {
      "cell_type": "code",
      "execution_count": null,
      "metadata": {
        "id": "8QOTbcKDXX5K"
      },
      "outputs": [],
      "source": [
        "from sklearn.preprocessing import MinMaxScaler\n",
        "min_max_scaler = MinMaxScaler()\n",
        "\n",
        "#  Create feature matrix\n",
        "X_raw = data[['Registrar_code', 'Lifetime', 'Country_code', 'Protocol_code']].values\n",
        "X = min_max_scaler.fit_transform(X_raw)\n",
        "#Target Variable\n",
        "y = data['Class_code'].values\n",
        "\n",
        "feature_names = data[['Registrar_code', 'Lifetime', 'Country_code', 'Protocol_code']].columns.values\n",
        "#print(feature_names)\n",
        "target_names = data['Class'].cat.categories\n",
        "country_names = data['Country'].cat.categories\n",
        "registrar_names = data['Registrar'].cat.categories\n",
        "protocol_names = data['Protocol'].cat.categories\n",
        "#print(target_names, country_names, registrar_names)\n"
      ]
    },
    {
      "cell_type": "markdown",
      "metadata": {
        "id": "zZ7wUd8OXX5M"
      },
      "source": [
        "### Data exploration with 2D and 3D plots"
      ]
    },
    {
      "cell_type": "code",
      "execution_count": null,
      "metadata": {
        "id": "JIyx5M8FXX5M",
        "outputId": "fb31f658-45ea-4056-d601-a33eb61a4000"
      },
      "outputs": [
        {
          "data": {
            "image/png": "[encoded data removed]",
            "text/plain": [
              "<Figure size 432x288 with 2 Axes>"
            ]
          },
          "metadata": {
            "needs_background": "light"
          },
          "output_type": "display_data"
        }
      ],
      "source": [
        "import matplotlib.pyplot as plt\n",
        "\n",
        "x_index = 1\n",
        "y_index = 3\n",
        "\n",
        "# this formatter will label the colorbar with the correct target names\n",
        "formatter = plt.FuncFormatter(lambda i, *args: target_names[int(i)])\n",
        "plt.scatter(X[:, x_index], X[:, y_index], c=y, cmap=plt.cm.get_cmap('Paired', 2))\n",
        "plt.colorbar(ticks=[0, 1], format=formatter)\n",
        "plt.clim(-0.5, 1.5)\n",
        "plt.xlabel(feature_names[x_index])\n",
        "plt.ylabel(feature_names[y_index]);\n",
        "plt.show()"
      ]
    },
    {
      "cell_type": "code",
      "execution_count": null,
      "metadata": {
        "id": "NJYTslpSXX5N",
        "outputId": "c4434eec-a4e3-49fd-b1c9-dcfeba1f6c99"
      },
      "outputs": [
        {
          "data": {
            "image/png": "[encoded data removed]",
            "text/plain": [
              "<Figure size 720x576 with 1 Axes>"
            ]
          },
          "metadata": {
            "needs_background": "light"
          },
          "output_type": "display_data"
        }
      ],
      "source": [
        " from mpl_toolkits.mplot3d import Axes3D\n",
        "\n",
        "fig = plt.figure(1, figsize=(10, 8))\n",
        "plt.clf()\n",
        "ax = Axes3D(fig, rect=[0, 0, 1, 1], elev=10, azim=80)\n",
        "ax.scatter(X[:, 1], X[:, 2], X[:, 3], lw=2, c=y, cmap='Paired')\n",
        "ax.set_xlabel(feature_names[1])\n",
        "ax.set_ylabel(feature_names[2]);\n",
        "ax.set_zlabel(feature_names[3]);\n",
        "plt.show()"
      ]
    },
    {
      "cell_type": "code",
      "execution_count": null,
      "metadata": {
        "scrolled": true,
        "id": "LNhBMkNXXX5N",
        "outputId": "d8b13a8d-d765-4685-a6e5-45cc4c5a7943"
      },
      "outputs": [
        {
          "data": {
            "text/plain": [
              "KNeighborsClassifier()"
            ]
          },
          "execution_count": 5,
          "metadata": {},
          "output_type": "execute_result"
        }
      ],
      "source": [
        "from sklearn import neighbors\n",
        "\n",
        "# create the model\n",
        "knn = neighbors.KNeighborsClassifier(n_neighbors=5)\n",
        "\n",
        "# fit the model using the training dataset\n",
        "X_train = X[:TRAIN_COUNT]\n",
        "y_train = y[:TRAIN_COUNT]\n",
        "knn.fit(X_train, y_train)"
      ]
    },
    {
      "cell_type": "code",
      "execution_count": null,
      "metadata": {
        "id": "Bhf3BGRpXX5O",
        "outputId": "24385607-0e39-430d-e025-0b2a605e14ce"
      },
      "outputs": [
        {
          "name": "stdout",
          "output_type": "stream",
          "text": [
            "Actual   : [1 1 1 1 1 0 0 0 0 0]\n",
            "Predicted: [1 1 1 1 0 0 0 0 0 0]\n"
          ]
        }
      ],
      "source": [
        "# predict class of URLs for the test dataset\n",
        "X_test = X[TRAIN_COUNT:]\n",
        "y_test = y[TRAIN_COUNT:]\n",
        "y_pred = knn.predict(X_test)\n",
        "print(\"Actual   :\", y_test)\n",
        "print(\"Predicted:\", y_pred)"
      ]
    },
    {
      "cell_type": "code",
      "execution_count": null,
      "metadata": {
        "id": "mM0ckWv3XX5O",
        "outputId": "06ea95d8-b2ac-4e96-b9f6-2a71f2cbc46f"
      },
      "outputs": [
        {
          "name": "stdout",
          "output_type": "stream",
          "text": [
            "[1.   1.   0.95 1.   1.   0.95 1.   1.   0.95 0.95]\n",
            "Accuracy: 0.980 (0.024)\n"
          ]
        }
      ],
      "source": [
        "from sklearn.model_selection import cross_validate, cross_val_score\n",
        "from sklearn.model_selection import StratifiedKFold\n",
        "from sklearn import linear_model\n",
        "\n",
        "# prepare the cross-validation procedure\n",
        "cv = StratifiedKFold(n_splits=10, random_state=1, shuffle=True)\n",
        "# evaluate model\n",
        "scores = cross_val_score(knn, X, y, scoring='accuracy', cv=cv, n_jobs=-1)\n",
        "# report performance\n",
        "print (scores)\n",
        "print('Accuracy: %.3f (%.3f)' % (np.mean(scores), np.std(scores)))"
      ]
    },
    {
      "cell_type": "markdown",
      "metadata": {
        "id": "sdcmrgIAXX5O"
      },
      "source": [
        "### Classifier evaluation"
      ]
    },
    {
      "cell_type": "code",
      "execution_count": null,
      "metadata": {
        "id": "rH2CsaVKXX5P",
        "outputId": "c005e3cc-775b-4274-dfec-cab2fc053ccb"
      },
      "outputs": [
        {
          "name": "stdout",
          "output_type": "stream",
          "text": [
            ">>False Negative:\n",
            " Registrar    allegro.pl\n",
            "Lifetime             18\n",
            "Country              US\n",
            "Protocol          https\n",
            "Class          phishing\n",
            "Name: 4, dtype: object\n",
            ">>Results:\n",
            "TP = 4 TN = 5 FP = 0 FN = 1\n",
            "TPR = 0.8 TNR = 1.0 FPR = 0.0 FNR = 0.2 PPV = 0.9 NPV = 0.8333333333333334 F-measure = 0.8470588235294118\n"
          ]
        }
      ],
      "source": [
        "TP = 0\n",
        "TN = 0\n",
        "FP = 0\n",
        "FN = 0\n",
        "\n",
        "for i in range (0, len(y_test)):\n",
        "    #print(i, \":\", y[i])\n",
        "    if (y_test[i] == 1): # Positive\n",
        "        if (y_test[i] == y_pred[i]):\n",
        "            TP+=1\n",
        "        else:\n",
        "            FN+=1\n",
        "            print (\">>False Negative:\\n\", data_test.iloc[i])\n",
        "    else:\n",
        "        if (y_test[i] == y_pred[i]):\n",
        "            TN+=1\n",
        "        else:\n",
        "            FP+=1\n",
        "            print (\">>False Positive:\\n\", data_test.iloc[i])\n",
        "\n",
        "\n",
        "print(\">>Results:\\nTP =\", TP, \"TN =\", TN, \"FP =\", FP, \"FN =\", FN)\n",
        "\n",
        "TPR = TP / (TP+FN)\n",
        "TNR = TN / (TN+FP)\n",
        "FPR = FP / (FP+TN)\n",
        "FNR = FN / (TP+FN)\n",
        "PPV = (TP+TN) / (TP+TN+FP+FN)\n",
        "NPV = TN / (TN+FN)\n",
        "Fmeasure = 2*PPV*TPR / (PPV + TPR)\n",
        "\n",
        "print(\"TPR =\", TPR, \"TNR =\", TNR, \"FPR =\", FPR, \"FNR =\", FNR, \"PPV =\", PPV, \"NPV =\", NPV, \"F-measure =\", Fmeasure)"
      ]
    }
  ],
  "metadata": {
    "kernelspec": {
      "display_name": "Python 3",
      "language": "python",
      "name": "python3"
    },
    "language_info": {
      "codemirror_mode": {
        "name": "ipython",
        "version": 3
      },
      "file_extension": ".py",
      "mimetype": "text/x-python",
      "name": "python",
      "nbconvert_exporter": "python",
      "pygments_lexer": "ipython3",
      "version": "3.8.3"
    },
    "colab": {
      "provenance": []
    }
  },
  "nbformat": 4,
  "nbformat_minor": 0
}